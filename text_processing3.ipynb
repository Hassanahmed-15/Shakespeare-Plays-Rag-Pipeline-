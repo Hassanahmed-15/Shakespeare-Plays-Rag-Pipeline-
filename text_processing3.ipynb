import fitz  # PyMuPDF
from docx import Document
from docx.enum.text import WD_PARAGRAPH_ALIGNMENT
import openai

# --- SET YOUR OPENAI API KEY ---
openai.api_key = ""

# --- INPUT PDF ---
pdf_path = "/content/newvariorumediti11shak.pdf"  # Your PDF file
start_page =  250 #Page numbering starts at 0
end_page =270 #Page 78 is index 77, inclusive

# --- Function to extract text from PDF ---
def extract_pdf_text(pdf_path, start_page, end_page):
    doc = fitz.open(pdf_path)
    text = ""
    for i in range(start_page, end_page + 1):
        page = doc.load_page(i)
        page_text = page.get_text("text")
        if page_text and page_text.strip():
            text += page_text + "\n"
        else:
            print(f"Warning: Page {i+1} has no extractable text. Skipping...")
    return text

# --- Function to call GPT-5 mini to structure notes ---
def gpt5_structure_notes_exact(text_chunk, act_number=1):
    prompt = f"""
    RULES

PLAY TEXT

Do not transcribe the play text.


Instead, leave the play text section completely blank (but still include the header).

Example:

=== PLAY TEXT ===
(blank)

start from line 157

SCHOLARLY COMMENTARY TRANSCRIPTION

Transcribe all scholarly notes exactly as printed, correcting only OCR errors (e.g., “haue” → “have,” “ft” → “st”).

No skipping, no summarizing, no omission. Every single commentary note/footnote must appear.

For each commentary note:

Use the custom line number that corresponds to the play text line (even though play text is blank).

The note must preserve the cue word/phrase with its closing bracket (e.g., word]) exactly as in the edition, with OCR errors corrected.

Format each note exactly as:

[Line#]: Scholar Name: word] Commentary text exactly as printed


Scholar’s name must always appear as printed in the edition (Capell, Johnson, Malone, Steevens, etc.).

Do not drop or alter the cue word, the bracket, or the scholar’s name.

NUMBER MATCHING REQUIREMENT

Commentary must use custom line numbers that match exactly with the numbering system of the scene.

Even though play text is blank, you must still assign continuous custom line numbers for each scene.

No double numbering, no skipped numbers.

OUTPUT FORMAT

ACT 3, SCENE 2

=== PLAY TEXT ===
(blank)

=== SCHOLARLY COMMENTARY ===
Line#: Scholar Name: word] Commentary text


VERIFICATION REQUIREMENT

At the end of the scene, verify that no commentary or footnotes are missing.

Output a summary like:

=== VERIFICATION SUMMARY ===
100% success: All scholarly commentary included with cue words, scholar names, and matching custom line numbers.

SCOPE

Apply this to ACT [3], SCENE [2].

Continue until the end of the scene.

Do not merge scenes together.

No commentary is to be omitted, cut, or summarized.

👉 This ensures you get only scholarly commentary, fully preserved, with:

Custom line numbers

Cue words (word]) always present

Scholar names always included

No missing notes
{text_chunk}

"""
    response = openai.chat.completions.create(
        model="gpt-4.1",
        messages=[{"role": "user", "content": prompt}]
    )
    structured_text = response.choices[0].message.content
    return structured_text

# --- Function to write structured text to DOCX ---
def write_to_docx(structured_text, output_path="Act1_Scenes1_to_3.docx"):
    doc = Document()
    for line in structured_text.split("\n"):
        line = line.strip()
        if not line:
            doc.add_paragraph()
            continue

        # Bold headings
        if line.startswith("**ACT") or line.startswith("**=== "):
            p = doc.add_paragraph()
            run = p.add_run(line.replace("**", ""))
            run.bold = True
            p.alignment = WD_PARAGRAPH_ALIGNMENT.CENTER
        else:
            doc.add_paragraph(line)
    doc.save(output_path)
    print(f"DONE: Structured docx saved at {output_path}")

# --- MAIN PROCESS ---
print("Extracting PDF text (pages 1-78)...")
pdf_text = extract_pdf_text(pdf_path, start_page, end_page)

if not pdf_text.strip():
    raise ValueError("No extractable text found in PDF. Check the file or page range.")

print("Structuring notes for Scenes 1-3 with GPT-5 mini...")
structured_text = gpt5_structure_notes_exact(pdf_text, act_number=1)

print("Writing to DOCX file...")
write_to_docx(structured_text, "Act1_SCN1.docx")
